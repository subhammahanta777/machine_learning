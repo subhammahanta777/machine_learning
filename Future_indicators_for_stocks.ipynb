{
 "cells": [
  {
   "cell_type": "code",
   "execution_count": 1,
   "metadata": {
    "collapsed": true
   },
   "outputs": [],
   "source": [
    "import numpy as np\n",
    "\n",
    "sample_dataset= [1,5,7,2,6,7,8,2,5,2,6,8,2,6,13]"
   ]
  },
  {
   "cell_type": "code",
   "execution_count": 2,
   "metadata": {},
   "outputs": [],
   "source": [
    "def moving_average(values,window):\n",
    "    weights = np.repeat(1.0,window)/window\n",
    "    smas = np.convolve(values,weights,'valid')#takes care of the last and the first few examples\n",
    "    return smas"
   ]
  },
  {
   "cell_type": "code",
   "execution_count": 3,
   "metadata": {},
   "outputs": [
    {
     "name": "stdout",
     "output_type": "stream",
     "text": [
      "[ 4.33333333  4.66666667  5.          5.          7.          5.66666667\n  5.          3.          4.33333333  5.33333333  5.33333333  5.33333333\n  7.        ]\n"
     ]
    }
   ],
   "source": [
    "print (moving_average(sample_dataset,3))"
   ]
  },
  {
   "cell_type": "code",
   "execution_count": 4,
   "metadata": {},
   "outputs": [],
   "source": [
    "#####exponential moving avg#########3333\n",
    "def exp_moving_avg(values,window):\n",
    "    weigths = np.exp(np.linspace(-1.,0.,window))\n",
    "    weigths /= weigths.sum()\n",
    "    a=np. convolve(values,weigths)[:len(values)]\n",
    "    a[:window]=a[window]\n",
    "    return a"
   ]
  },
  {
   "cell_type": "code",
   "execution_count": 6,
   "metadata": {},
   "outputs": [
    {
     "name": "stdout",
     "output_type": "stream",
     "text": [
      "[ 5.0554206   5.0554206   5.0554206   5.0554206   5.27769685  4.16040216\n  6.67984333  6.37557727  5.59785352  2.92158766  4.26473607  4.34672588\n  5.86909688  5.78417724  5.2783445 ]\n"
     ]
    }
   ],
   "source": [
    "print (exp_moving_avg(sample_dataset,3))"
   ]
  },
  {
   "cell_type": "markdown",
   "metadata": {},
   "source": [
    "Avarage True Range \n"
   ]
  },
  {
   "cell_type": "code",
   "execution_count": 18,
   "metadata": {},
   "outputs": [],
   "source": [
    "import numpy as np\n",
    "\n",
    "sampleData = open ('smaple.txt','r').read()\n",
    "splitData = sampleData.split('\\n')\n",
    "date,closep,highp,lowp,openp,volume = np.loadtxt(splitData,delimiter=',',unpack=True)\n",
    "\n",
    "def TR(c,h,l,o,yc):\n",
    "    x = h-l\n",
    "    y = abs(h-yc)\n",
    "    z = abs(l-yc)\n",
    "    tr=max(x,y,z)\n",
    "    return tr"
   ]
  },
  {
   "cell_type": "code",
   "execution_count": 19,
   "metadata": {},
   "outputs": [
    {
     "name": "stdout",
     "output_type": "stream",
     "text": [
      "0.73\n0.82\n0.74\n0.98\n0.95\n0.54\n0.57\n0.91\n0.81\n0.66\n0.6\n0.96\n0.48\n1.53\n0.59\n1.66\n1.12\n0.93\n1.51\n1.01\n1.89\n0.72\n0.93\n1.06\n1.1\n0.98\n1.41\n0.82\n0.6\n0.63\n0.52\n1.34\n0.6\n0.91\n1.02\n0.78\n0.68\n0.7\n1.68\n0.47\n0.84\n0.4\n0.69\n1.46\n1.52\n0.7\n1.39\n0.66\n0.94\n0.9\n1.19\n1.13\n1.84\n1.23\n0.91\n0.98\n1.04\n0.89\n1.26\n0.84\n0.81\n1.3\n0.92\n0.6\n0.89\n1.08\n1.59\n0.61\n0.82\n0.71\n0.86\n0.83\n0.62\n0.79\n0.98\n0.62\n0.64\n0.83\n0.63\n0.97\n1.12\n0.91\n1.34\n1.14\n0.58\n1.56\n0.92\n1.53\n1.02\n0.74\n2.07\n1.27\n0.8\n1.74\n2.12\n1.22\n0.96\n1.18\n1.07\n1.37\n1.69\n1.51\n1.35\n1.97\n0.85\n"
     ]
    }
   ],
   "source": [
    "x = 1\n",
    "TRdates=[]\n",
    "TrueRanges = []\n",
    "while x < len(date):\n",
    "    TrueRange = TR(closep[x],\n",
    "                           highp[x],lowp[x],\n",
    "                           openp[x],closep[x-1])\n",
    "    TrueRanges.append(TrueRange)\n",
    "    print (TrueRange)\n",
    "    x +=1"
   ]
  },
  {
   "cell_type": "code",
   "execution_count": 5,
   "metadata": {},
   "outputs": [],
   "source": [
    "def exp_moving_avg(values,window):\n",
    "    weigths = np.exp(np.linspace(-1.,0.,window))\n",
    "    weigths /= weigths.sum()\n",
    "    a=np. convolve(values,weigths)[:len(values)]\n",
    "    a[:window]=a[window]\n",
    "    return a"
   ]
  },
  {
   "cell_type": "code",
   "execution_count": 21,
   "metadata": {},
   "outputs": [
    {
     "name": "stdout",
     "output_type": "stream",
     "text": [
      "105\n"
     ]
    }
   ],
   "source": [
    "ATR= exp_moving_avg(TrueRanges,14)\n",
    "print (len(ATR))"
   ]
  },
  {
   "cell_type": "code",
   "execution_count": 9,
   "metadata": {},
   "outputs": [],
   "source": [
    "import numpy as np\n",
    "\n",
    "sampleData = open ('smaple.txt','r').read()\n",
    "splitData = sampleData.split('\\n')\n",
    "date,closep,highp,lowp,openp,volume = np.loadtxt(splitData,delimiter=',',unpack=True)\n",
    "\n",
    "\n",
    "def TR(d,c,h,l,o,yc):\n",
    "    x = h-l\n",
    "    y = abs(h-yc)\n",
    "    z = abs(l-yc)\n",
    "    tr=max(x,y,z)\n",
    "    return d,tr\n",
    "def DM(d,o,h,l,c,yo,yh,yl,yc):\n",
    "    moveUp = h-yh\n",
    "    moveDown = yl-l\n",
    "    \n",
    "    if 0 < moveUp > moveDown:\n",
    "        PDM= moveUp\n",
    "    else:\n",
    "        PDM = 0\n",
    "    if 0 < moveDown > moveUp:\n",
    "        NDM = moveDown\n",
    "    else:\n",
    "        NDM = 0\n",
    "    return d,PDM,NDM\n",
    "\n",
    "def exp_moving_avg(values,window):\n",
    "    weigths = np.exp(np.linspace(-1.,0.,window))\n",
    "    weigths /= weigths.sum()\n",
    "    a=np. convolve(values,weigths)[:len(values)]\n",
    "    a[:window]=a[window]\n",
    "    return a\n",
    "\n",
    "def calcDIs():\n",
    "    x = 1\n",
    "    TRdates=[]\n",
    "    TrueRanges = []\n",
    "    PosDMs = []\n",
    "    NegDMs = []\n",
    "    while x < len(date):\n",
    "        TRdate,TrueRange = TR(date[x],closep[x],\n",
    "                               highp[x],lowp[x],\n",
    "                               openp[x],closep[x-1])\n",
    "        TRdates.append(TRdate)\n",
    "        TrueRanges.append(TrueRange)\n",
    "        DMdate,PosDM,NegDM = DM(date[x],openp[x],\n",
    "                                highp[x],lowp[x],\n",
    "                                closep[x],\n",
    "                                openp[x-1],\n",
    "                                highp[x-1],\n",
    "                                lowp[x-1],\n",
    "                                closep[x-1])\n",
    "        PosDMs.append(PosDM)\n",
    "        NegDMs.append(NegDM)\n",
    "        x +=1\n",
    "    print (len(PosDMs))\n",
    "    expPosDM= exp_moving_avg(PosDMs,14)\n",
    "    expNegDM= exp_moving_avg(NegDMs,14)\n",
    "    ATR= exp_moving_avg(TrueRanges,14)\n",
    "    \n",
    "    xx =0\n",
    "    PDIs =[]\n",
    "    NDIs =[]\n",
    "    \n",
    "    while xx< len(ATR):\n",
    "        PDI = 100*(expPosDM[xx]/ATR[xx])\n",
    "        PDIs.append(PDI)    \n",
    "        NDI = 100*(expNegDM[xx]/ATR[xx])\n",
    "        NDIs.append(NDI)\n",
    "        \n",
    "        xx+=1\n",
    "        \n",
    "    return PDIs,NDIs"
   ]
  },
  {
   "cell_type": "markdown",
   "metadata": {},
   "source": [
    "Avarage Directional Index\n"
   ]
  },
  {
   "cell_type": "code",
   "execution_count": 11,
   "metadata": {},
   "outputs": [
    {
     "name": "stdout",
     "output_type": "stream",
     "text": [
      "105\n105\n105\n105\n105\n105\n105\n[ 14.44189849  14.44189849  14.44189849  14.44189849  14.44189849\n  14.44189849  14.44189849  14.44189849  14.44189849  14.44189849\n  14.44189849  14.44189849  14.44189849  14.44189849  14.44189849\n  15.03296687  16.31505585  18.45515909  20.07281166  21.89737191\n  23.17147721  24.00975533  25.86448367  27.48826582  28.85874068\n  29.80875214  30.45358792  32.23371923  34.30617984  35.59619144\n  35.99480273  33.63468766  32.86737034  32.03094819  32.34941157\n  34.27963229  33.99158409  34.47396932  35.03055543  36.79138854\n  41.25234537  43.50458804  45.53441262  44.71144291  41.26844505\n  38.63496945  36.6537935   33.3843798   31.69763902  30.38053784\n  27.2120842   24.8187171   25.91067268  28.25325852  27.16073806\n  23.85981614  20.48414787  18.11933527  15.1054521   13.62756877\n  13.14288943  13.47750556  16.05317538  17.07744057  19.00489578\n  20.42806171  22.0312085   23.89050695  24.11619269  25.52844547\n  26.20094574  29.14867698  32.42618279  35.92295029  35.10044516\n  37.0737067   37.30433648  38.27062205  42.18416787  48.40330757\n  49.56741735  49.67281939  50.63941598  50.30433143  49.5224988\n  48.31760611  48.71167016  48.91694129  49.53566544  46.65753811\n  44.86691131  42.58963642  37.9631977   30.33904374  25.94701676\n  23.94455093  18.40666083  15.37842378  13.1718555   12.86281357\n  12.77204821  12.37722067  14.11342553  16.19708276  16.19948735]\n"
     ]
    }
   ],
   "source": [
    "def ADX():\n",
    "    PositiveDI,NegativeDI = calcDIs()\n",
    "    print (len(PositiveDI))\n",
    "    print (len(NegativeDI))\n",
    "    print (len(date[1:]))\n",
    "        \n",
    "    xxx = 0\n",
    "    DXs = []\n",
    "    \n",
    "    while xxx< len(date[1:]):\n",
    "        DX = 100* ((abs(PositiveDI[xxx]-NegativeDI[xxx])\n",
    "                    /(PositiveDI[xxx]+NegativeDI[xxx])))\n",
    "        DXs.append(DX)\n",
    "        xxx +=1\n",
    "    print (len(DXs))\n",
    "    ADX = exp_moving_avg(DXs,14)\n",
    "    print (len(ADX))\n",
    "    print (len(date[1:]))\n",
    "    print (ADX)\n",
    "    \n",
    "ADX()"
   ]
  },
  {
   "cell_type": "markdown",
   "metadata": {},
   "source": [
    "Aroon indicator"
   ]
  },
  {
   "cell_type": "code",
   "execution_count": null,
   "metadata": {},
   "outputs": [],
   "source": [
    ""
   ]
  }
 ],
 "metadata": {
  "kernelspec": {
   "display_name": "Python 2",
   "language": "python",
   "name": "python2"
  },
  "language_info": {
   "codemirror_mode": {
    "name": "ipython",
    "version": 2.0
   },
   "file_extension": ".py",
   "mimetype": "text/x-python",
   "name": "python",
   "nbconvert_exporter": "python",
   "pygments_lexer": "ipython2",
   "version": "2.7.6"
  }
 },
 "nbformat": 4,
 "nbformat_minor": 0
}