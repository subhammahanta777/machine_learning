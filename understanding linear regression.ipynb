{
 "cells": [
  {
   "cell_type": "code",
   "execution_count": 27,
   "metadata": {
    "collapsed": true
   },
   "outputs": [],
   "source": [
    "# having a relationship amonst the dependent and independent \n",
    "# is import fro us to perform linear regrassion as if there isnt and\n",
    "# relationship between the two donot use linear regression\n",
    "from statistics import mean\n",
    "import numpy as np\n",
    "import matplotlib.pyplot as plt\n",
    "import random"
   ]
  },
  {
   "cell_type": "code",
   "execution_count": 28,
   "metadata": {},
   "outputs": [],
   "source": [
    "# xs =[1,2,3,4,5,6]\n",
    "# ys= [5,4,6,5,6,7]\n",
    "# plt.scatter (xs,ys)\n",
    "# plt.show()"
   ]
  },
  {
   "cell_type": "code",
   "execution_count": 39,
   "metadata": {},
   "outputs": [],
   "source": [
    "def create_dataset(hm, variance, step=2, correlation=False):\n",
    "    val=1# first val of y\n",
    "    ys=[]\n",
    "    for i in range(hm):\n",
    "        y = val + random.randrange(-variance,variance)\n",
    "        ys.append(y)\n",
    "        if correlation and correlation == 'pos':\n",
    "            val+=step\n",
    "        elif correlation and correlation == 'neg':\n",
    "            val = step\n",
    "    xs = [i for i in range(len(ys))]\n",
    "    return np.array(xs,dtype=np.float64), np.array(ys, dtype=np.float64)"
   ]
  },
  {
   "cell_type": "code",
   "execution_count": 48,
   "metadata": {},
   "outputs": [
    {
     "data": {
      "image/png": "[encoded data removed]",
      "text/plain": [
       "<matplotlib.figure.Figure at 0x19957601f98>"
      ]
     },
     "metadata": {},
     "output_type": "display_data"
    }
   ],
   "source": [
    "# xs = np.array(xs,dtype=np.float64 )\n",
    "# ys=np.array(ys,dtype=np.float64)\n",
    "xs , ys = create_dataset(40,100 ,2 , correlation='pos')\n",
    "# print (xs,ys)\n",
    "plt.scatter(xs,ys)\n",
    "plt.show()"
   ]
  },
  {
   "cell_type": "code",
   "execution_count": 49,
   "metadata": {},
   "outputs": [
    {
     "name": "stdout",
     "output_type": "stream",
     "text": [
      "1.75600375235 24.6829268293\n"
     ]
    }
   ],
   "source": [
    "def best_fit_slope(xs,ys):\n",
    "    m = ((mean(xs)* mean(ys))-mean(xs*ys))/((mean(xs)**2)-mean(xs**2))\n",
    "    b = (mean(ys)-m*mean(xs)) \n",
    "    return m,b \n",
    "m,b = best_fit_slope(xs,ys)\n",
    "print (m,b)\n",
    "# order of opperation PEMDAS"
   ]
  },
  {
   "cell_type": "code",
   "execution_count": 50,
   "metadata": {},
   "outputs": [
    {
     "data": {
      "image/png": "[encoded data removed]",
      "text/plain": [
       "<matplotlib.figure.Figure at 0x19957597320>"
      ]
     },
     "metadata": {},
     "output_type": "display_data"
    }
   ],
   "source": [
    "from matplotlib import style\n",
    "style.use('fivethirtyeight')\n",
    "# plotting the best fit line \n",
    "# for the best fit line we need to identify the best fit line slope and its y intercept for that set of data using the previous means formulae\n",
    "regression_line = [(m*x)+b for x in xs]\n",
    "plt.scatter(xs,ys)\n",
    "plt.plot(xs, regression_line)\n",
    "plt.show()"
   ]
  },
  {
   "cell_type": "code",
   "execution_count": 51,
   "metadata": {},
   "outputs": [
    {
     "name": "stdout",
     "output_type": "stream",
     "text": [
      "0.123822598601\n"
     ]
    }
   ],
   "source": [
    "# how accurate is this best fit line\n",
    "# R squared theory\n",
    "# you get a best fit line to any type of data but how \n",
    "#good of a  best fit line is it?\n",
    "# the question we should be asking is is it a good fit?\n",
    "# error is the distance between the point and the best fit line \n",
    "# we square the error because first it removes positive negative cancelation \n",
    "# secondly we want to penalise our data for ouliers \n",
    "# but then why not e^4 or 6 \n",
    "# we can use these powers too but its is a standard\n",
    "\n",
    "def sq_error(ys_orig, ys_line):\n",
    "    return sum((ys_line-ys_orig)**2)\n",
    "def coeff_of_determinatin(ys_orig,ys_line):\n",
    "    y_mean_line = [mean(ys_orig) for y in ys_orig]\n",
    "    sq_error_reg = sq_error(ys_orig,ys_line)\n",
    "    sq_error_y_mean = sq_error(ys_orig,y_mean_line)\n",
    "    return 1-(sq_error_reg/sq_error_y_mean)\n",
    "r_sq = coeff_of_determinatin(ys,regression_line)\n",
    "print(r_sq)"
   ]
  },
  {
   "cell_type": "code",
   "execution_count": null,
   "metadata": {},
   "outputs": [],
   "source": [
    ""
   ]
  }
 ],
 "metadata": {
  "kernelspec": {
   "display_name": "Python 2",
   "language": "python",
   "name": "python2"
  },
  "language_info": {
   "codemirror_mode": {
    "name": "ipython",
    "version": 2.0
   },
   "file_extension": ".py",
   "mimetype": "text/x-python",
   "name": "python",
   "nbconvert_exporter": "python",
   "pygments_lexer": "ipython2",
   "version": "2.7.6"
  }
 },
 "nbformat": 4,
 "nbformat_minor": 0
}